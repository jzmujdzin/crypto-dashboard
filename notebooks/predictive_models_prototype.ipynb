{
 "cells": [
  {
   "cell_type": "code",
   "execution_count": 1,
   "id": "elect-maldives",
   "metadata": {},
   "outputs": [],
   "source": [
    "import tensorflow as tf\n",
    "from tensorflow import keras\n",
    "from tensorflow.keras import layers\n",
    "import pandas as pd\n",
    "import requests\n",
    "from datetime import datetime\n",
    "import math\n",
    "import matplotlib.pyplot as plt\n",
    "import numpy as np\n",
    "from sklearn.preprocessing import MinMaxScaler"
   ]
  },
  {
   "cell_type": "code",
   "execution_count": 2,
   "id": "royal-domestic",
   "metadata": {},
   "outputs": [],
   "source": [
    "class DataGenerator:\n",
    "    def __init__(self, interval, date_start, date_stop):\n",
    "        self.interval = interval\n",
    "        self.date_start = datetime.strptime(date_start, '%d/%m/%y').timestamp()*1000\n",
    "        self.date_stop = datetime.strptime(date_stop, '%d/%m/%y').timestamp()*1000\n",
    "        self.data = self.get_candlestick_data()\n",
    "\n",
    "    def get_candlestick_data(self):\n",
    "        \"\"\"Retrieves Binance Api data: splits whole interval into smaller intervals and requests data for it\"\"\"\n",
    "        df = pd.DataFrame(requests.get(\n",
    "                self.get_url_with_parameters(self.date_start, self.offset_timestamp(self.date_start, 1))).json())\n",
    "        for start, end in self.create_timestamp_data():\n",
    "            df = df.append(pd.DataFrame(requests.get(self.get_url_with_parameters(start, end)).json()),\n",
    "                           ignore_index=True) \\\n",
    "                if end < self.date_stop else df.append(\n",
    "                pd.DataFrame(requests.get(self.get_url_with_parameters(start, self.date_stop)).json()),\n",
    "                ignore_index=True)\n",
    "        df.columns = self.get_candlesticks_df_columns()\n",
    "        df['date'] = pd.to_datetime(df.open_tstmp, unit='ms', utc=True)\n",
    "        return df\n",
    "\n",
    "    @staticmethod\n",
    "    def get_candlesticks_df_columns():\n",
    "        return ['open_tstmp', 'open', 'high', 'low', 'close', 'vol', 'close_tstmp', 'quote_vol', 'trades',\n",
    "                'taker_base', 'taker_quote', 'excess_column']\n",
    "\n",
    "    def create_timestamp_data(self):\n",
    "        \"\"\"Retrieves all timestamps that need to be received from API (API data limits)\"\"\"\n",
    "        return [[self.offset_timestamp(self.date_start, i+1), self.offset_timestamp(self.date_start, i+2)-1] for i in range(self.calculate_api_calls_number())]\n",
    "\n",
    "    def calculate_api_calls_number(self):\n",
    "        \"\"\"Calculate how many times API has to be requested for data\"\"\"\n",
    "        return math.ceil((self.date_stop - self.date_start)/(self.interval_to_ms()*500))\n",
    "\n",
    "    def interval_to_ms(self):\n",
    "        \"\"\"Change interval to milliseconds\"\"\"\n",
    "        return int(self.interval[:-1])*60000 if self.interval[-1] == 'm' else int(self.interval[:-1])*3600000\n",
    "\n",
    "    def offset_timestamp(self, start, times=0):\n",
    "        \"\"\"Offset timestamp for data retrieval\"\"\"\n",
    "        return start + 500*self.interval_to_ms()*times\n",
    "\n",
    "    def get_url_with_parameters(self, start, stop):\n",
    "        \"\"\"Get URL with parameters: interval, start and end time\"\"\"\n",
    "        return f\"https://api.binance.com/api/v3/klines?symbol=BTCUSDT&interval={self.interval}&startTime={str(start)[:-2]}&endTime={str(stop)[:-2]}\"\n",
    "\n",
    "    def data_to_csv(self):\n",
    "        \"\"\"Save data to csv file\"\"\"\n",
    "        self.data.to_csv(f'{SAVE_DATA_PATH}data_{self.date_start}_{self.interval}.csv')"
   ]
  },
  {
   "cell_type": "code",
   "execution_count": 3,
   "id": "color-upper",
   "metadata": {},
   "outputs": [],
   "source": [
    "price_data = DataGenerator('1m', '08/06/22', '09/06/22').data['close']"
   ]
  },
  {
   "cell_type": "code",
   "execution_count": 4,
   "id": "referenced-forwarding",
   "metadata": {},
   "outputs": [],
   "source": [
    "price_data_df = pd.DataFrame(price_data)\n",
    "price_data_df.columns = ['x']\n",
    "price_data_df['y'] = price_data_df['x'].shift(1)\n",
    "price_data_df.dropna(inplace=True)"
   ]
  },
  {
   "cell_type": "code",
   "execution_count": 5,
   "id": "developmental-couple",
   "metadata": {},
   "outputs": [],
   "source": [
    "model = keras.Sequential()\n",
    "model.add(layers.LSTM(64))\n",
    "model.add(layers.BatchNormalization())\n",
    "model.add(layers.Dense(10))\n",
    "model.add(layers.Dense(1))"
   ]
  },
  {
   "cell_type": "code",
   "execution_count": 6,
   "id": "italic-bhutan",
   "metadata": {},
   "outputs": [],
   "source": [
    "scaler_x = MinMaxScaler(feature_range=(0, 1))\n",
    "scaler_y = MinMaxScaler(feature_range=(0, 1))\n",
    "scaler_x.fit(np.array(price_data_df.x).reshape(-1, 1))\n",
    "scaler_y.fit(np.array(price_data_df.y).reshape(-1, 1))\n",
    "X = scaler_x.transform(np.array(price_data_df.x).reshape(-1, 1))\n",
    "y = scaler_y.transform(np.array(price_data_df.y).reshape(-1, 1))"
   ]
  },
  {
   "cell_type": "code",
   "execution_count": 7,
   "id": "competent-silver",
   "metadata": {},
   "outputs": [],
   "source": [
    "price_data_scaled_df = pd.DataFrame([X.reshape(1, -1)[0], y.reshape(1, -1)[0]]).transpose()"
   ]
  },
  {
   "cell_type": "code",
   "execution_count": 8,
   "id": "boxed-connectivity",
   "metadata": {},
   "outputs": [],
   "source": [
    "train = price_data_scaled_df.iloc[:int(len(price_data_df)*0.95)]\n",
    "train.columns = ['x', 'y']\n",
    "test = price_data_scaled_df.iloc[int(len(price_data_df)*0.95):]\n",
    "test.columns = ['x', 'y']"
   ]
  },
  {
   "cell_type": "code",
   "execution_count": 9,
   "id": "flush-beaver",
   "metadata": {},
   "outputs": [],
   "source": [
    "Xtrain, ytrain = train.x, train.y\n",
    "Xtest, ytest = test.x, test.y"
   ]
  },
  {
   "cell_type": "code",
   "execution_count": 10,
   "id": "artificial-cooperation",
   "metadata": {},
   "outputs": [],
   "source": [
    "Xtrain = np.array(Xtrain).reshape((Xtrain.shape[0], 1, 1))\n",
    "Xtest = np.array(Xtest).reshape((Xtest.shape[0], 1, 1))"
   ]
  },
  {
   "cell_type": "code",
   "execution_count": 11,
   "id": "previous-symphony",
   "metadata": {},
   "outputs": [],
   "source": [
    "model.compile(\n",
    "    loss=keras.losses.MeanSquaredError(),\n",
    "    optimizer=tf.keras.optimizers.Adam(learning_rate=1e-3, clipnorm=1),\n",
    "    metrics=[\"mse\"],\n",
    ")"
   ]
  },
  {
   "cell_type": "code",
   "execution_count": 12,
   "id": "running-charm",
   "metadata": {},
   "outputs": [
    {
     "name": "stdout",
     "output_type": "stream",
     "text": [
      "Epoch 1/32\n",
      "11/11 [==============================] - 2s 3ms/step - loss: 0.1246 - mse: 0.1246\n",
      "Epoch 2/32\n",
      "11/11 [==============================] - 0s 4ms/step - loss: 0.0274 - mse: 0.0274\n",
      "Epoch 3/32\n",
      "11/11 [==============================] - 0s 4ms/step - loss: 0.0027 - mse: 0.0027\n",
      "Epoch 4/32\n",
      "11/11 [==============================] - 0s 4ms/step - loss: 0.0045 - mse: 0.0045\n",
      "Epoch 5/32\n",
      "11/11 [==============================] - 0s 3ms/step - loss: 0.0018 - mse: 0.0018\n",
      "Epoch 6/32\n",
      "11/11 [==============================] - 0s 3ms/step - loss: 0.0011 - mse: 0.0011    \n",
      "Epoch 7/32\n",
      "11/11 [==============================] - 0s 3ms/step - loss: 0.0011 - mse: 0.0011    \n",
      "Epoch 8/32\n",
      "11/11 [==============================] - 0s 3ms/step - loss: 9.9107e-04 - mse: 9.9107e-04\n",
      "Epoch 9/32\n",
      "11/11 [==============================] - 0s 2ms/step - loss: 7.9824e-04 - mse: 7.9824e-04\n",
      "Epoch 10/32\n",
      "11/11 [==============================] - 0s 2ms/step - loss: 0.0013 - mse: 0.0013    \n",
      "Epoch 11/32\n",
      "11/11 [==============================] - 0s 2ms/step - loss: 0.0014 - mse: 0.0014\n",
      "Epoch 12/32\n",
      "11/11 [==============================] - 0s 2ms/step - loss: 0.0011 - mse: 0.0011\n",
      "Epoch 13/32\n",
      "11/11 [==============================] - 0s 2ms/step - loss: 0.0012 - mse: 0.0012\n",
      "Epoch 14/32\n",
      "11/11 [==============================] - 0s 2ms/step - loss: 0.0011 - mse: 0.0011    \n",
      "Epoch 15/32\n",
      "11/11 [==============================] - 0s 2ms/step - loss: 0.0010 - mse: 0.0010\n",
      "Epoch 16/32\n",
      "11/11 [==============================] - 0s 2ms/step - loss: 9.9627e-04 - mse: 9.9627e-04\n",
      "Epoch 17/32\n",
      "11/11 [==============================] - 0s 2ms/step - loss: 0.0011 - mse: 0.0011    \n",
      "Epoch 18/32\n",
      "11/11 [==============================] - 0s 2ms/step - loss: 0.0010 - mse: 0.0010    \n",
      "Epoch 19/32\n",
      "11/11 [==============================] - 0s 2ms/step - loss: 0.0013 - mse: 0.0013\n",
      "Epoch 20/32\n",
      "11/11 [==============================] - 0s 2ms/step - loss: 9.8332e-04 - mse: 9.8332e-04\n",
      "Epoch 21/32\n",
      "11/11 [==============================] - 0s 2ms/step - loss: 8.3587e-04 - mse: 8.3587e-04\n",
      "Epoch 22/32\n",
      "11/11 [==============================] - 0s 2ms/step - loss: 8.3762e-04 - mse: 8.3762e-04\n",
      "Epoch 23/32\n",
      "11/11 [==============================] - 0s 2ms/step - loss: 9.7112e-04 - mse: 9.7112e-04\n",
      "Epoch 24/32\n",
      "11/11 [==============================] - 0s 2ms/step - loss: 0.0012 - mse: 0.0012    \n",
      "Epoch 25/32\n",
      "11/11 [==============================] - 0s 2ms/step - loss: 0.0012 - mse: 0.0012    \n",
      "Epoch 26/32\n",
      "11/11 [==============================] - 0s 2ms/step - loss: 0.0012 - mse: 0.0012    \n",
      "Epoch 27/32\n",
      "11/11 [==============================] - 0s 2ms/step - loss: 0.0013 - mse: 0.0013    \n",
      "Epoch 28/32\n",
      "11/11 [==============================] - 0s 2ms/step - loss: 7.9235e-04 - mse: 7.9235e-04\n",
      "Epoch 29/32\n",
      "11/11 [==============================] - 0s 2ms/step - loss: 0.0012 - mse: 0.0012    \n",
      "Epoch 30/32\n",
      "11/11 [==============================] - 0s 2ms/step - loss: 9.4332e-04 - mse: 9.4332e-04\n",
      "Epoch 31/32\n",
      "11/11 [==============================] - 0s 2ms/step - loss: 8.5044e-04 - mse: 8.5044e-04\n",
      "Epoch 32/32\n",
      "11/11 [==============================] - 0s 2ms/step - loss: 8.8495e-04 - mse: 8.8495e-04\n"
     ]
    },
    {
     "data": {
      "text/plain": [
       "<keras.callbacks.History at 0x7fe41f7876d0>"
      ]
     },
     "execution_count": 12,
     "metadata": {},
     "output_type": "execute_result"
    }
   ],
   "source": [
    "model.fit(\n",
    "    Xtrain, ytrain, batch_size=128, epochs=32\n",
    ")"
   ]
  },
  {
   "cell_type": "code",
   "execution_count": 13,
   "id": "lesser-processing",
   "metadata": {},
   "outputs": [
    {
     "name": "stdout",
     "output_type": "stream",
     "text": [
      "3/3 [==============================] - 0s 2ms/step\n"
     ]
    }
   ],
   "source": [
    "y_pred = model.predict(Xtest)"
   ]
  },
  {
   "cell_type": "code",
   "execution_count": 14,
   "id": "deadly-candy",
   "metadata": {},
   "outputs": [],
   "source": [
    "y_pred = scaler_y.inverse_transform(y_pred)"
   ]
  },
  {
   "cell_type": "code",
   "execution_count": 15,
   "id": "still-african",
   "metadata": {},
   "outputs": [
    {
     "data": {
      "text/plain": [
       "[<matplotlib.lines.Line2D at 0x7fe4220cacd0>]"
      ]
     },
     "execution_count": 15,
     "metadata": {},
     "output_type": "execute_result"
    },
    {
     "data": {
      "image/png": "[encoded data removed]",
      "text/plain": [
       "<Figure size 432x288 with 1 Axes>"
      ]
     },
     "metadata": {
      "needs_background": "light"
     },
     "output_type": "display_data"
    }
   ],
   "source": [
    "plt.plot(y_pred)\n",
    "plt.plot(pd.to_numeric(price_data_df.y.iloc[int(len(price_data_df)*0.95):].values))"
   ]
  }
 ],
 "metadata": {
  "kernelspec": {
   "display_name": "Python 3",
   "language": "python",
   "name": "python3"
  },
  "language_info": {
   "codemirror_mode": {
    "name": "ipython",
    "version": 3
   },
   "file_extension": ".py",
   "mimetype": "text/x-python",
   "name": "python",
   "nbconvert_exporter": "python",
   "pygments_lexer": "ipython3",
   "version": "3.8.5"
  }
 },
 "nbformat": 4,
 "nbformat_minor": 5
}
