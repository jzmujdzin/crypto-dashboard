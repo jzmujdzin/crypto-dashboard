{
 "cells": [
  {
   "cell_type": "code",
   "execution_count": 1,
   "id": "05fb84f4-7984-48ac-a4a8-067dd359fb12",
   "metadata": {},
   "outputs": [],
   "source": [
    "import dash\n",
    "from dash import dcc\n",
    "from dash import html\n",
    "import plotly.express as px\n",
    "import pandas as pd\n",
    "import requests\n",
    "import plotly.graph_objects as go\n",
    "import matplotlib.pyplot as plt\n",
    "from abc import ABC, abstractmethod\n",
    "from datetime import datetime, timedelta"
   ]
  },
  {
   "cell_type": "markdown",
   "id": "61928eb9-53dd-4dda-9b8c-f6ce2f31b681",
   "metadata": {},
   "source": [
    "# Trending coins"
   ]
  },
  {
   "cell_type": "code",
   "execution_count": 2,
   "id": "8bd0bc15-e6f1-4722-a101-f98f42711c3c",
   "metadata": {},
   "outputs": [],
   "source": [
    "trending_coins_url = 'https://api.coingecko.com/api/v3/search/trending'\n",
    "trending_coins_info = requests.get(trending_coins_url).json()"
   ]
  },
  {
   "cell_type": "code",
   "execution_count": 3,
   "id": "cb079035-171c-43d2-904e-30c9468d712d",
   "metadata": {},
   "outputs": [
    {
     "name": "stdout",
     "output_type": "stream",
     "text": [
      "Trending coins:\n",
      "coin: Terra, ticker: LUNA, market cap rank: 61, current price: 0.00017257, perc price change in 24h: -9.16, perc market cap change in 24h: -7.29\n",
      "coin: Unizen, ticker: ZCX, market cap rank: 601, current price: 0.733241, perc price change in 24h: 32.57, perc market cap change in 24h: 36.86\n",
      "coin: AssetMantle, ticker: MNTL, market cap rank: 702, current price: 0.173812, perc price change in 24h: 40.44, perc market cap change in 24h: 41.11\n",
      "coin: TerraUSD, ticker: UST, market cap rank: 59, current price: 0.103214, perc price change in 24h: 15.66, perc market cap change in 24h: 15.65\n",
      "coin: Evmos, ticker: EVMOS, market cap rank: 170, current price: 1.17, perc price change in 24h: -35.72, perc market cap change in 24h: -32.65\n",
      "coin: Flow, ticker: FLOW, market cap rank: 28, current price: 3.02, perc price change in 24h: 3.31, perc market cap change in 24h: 3.36\n",
      "coin: STEPN, ticker: GMT, market cap rank: 73, current price: 1.42, perc price change in 24h: -5.79, perc market cap change in 24h: -5.75\n"
     ]
    }
   ],
   "source": [
    "print('Trending coins:')\n",
    "for coin in trending_coins_info['coins']:\n",
    "    try:\n",
    "        url = f'''https://api.coingecko.com/api/v3/coins/{coin['item']['id']}?localization=en&tickers=false&market_data=true&community_data=false&developer_data=false&sparkline=false'''\n",
    "        data = requests.get(url).json()\n",
    "        print(f'''coin: {coin['item']['name']}, ticker: {coin['item']['symbol']}, market cap rank: {data['market_cap_rank']}, current price: {data['market_data']['current_price']['usd']}, perc price change in 24h: {round(data['market_data']['price_change_percentage_24h'], 2)}, perc market cap change in 24h: {round(data['market_data']['market_cap_change_percentage_24h_in_currency']['usd'], 2)}''')\n",
    "        \n",
    "    except KeyError:\n",
    "        continue"
   ]
  },
  {
   "cell_type": "code",
   "execution_count": 4,
   "id": "c74b14b0-796b-44f2-8ae0-89fce2af558d",
   "metadata": {},
   "outputs": [],
   "source": [
    "#add mini plots for each trending coin with previous price (green or red, depending whether the price has risen in the last 7 days)\n",
    "#-- ^ done --\n",
    "#with 2-day prediction, printed in gray color\n",
    "#add 'look up your coin' function, where it would return data on the coin similiar to the one presented in trending coins section\n",
    "#with price data, market cap data, previous price and predictions\n",
    "#maybe add crypto thumbnails for each trending cc?\n",
    "#possibly: integration with Binance or other cc market for historical price data\n",
    "# -- ^ WIP, currently FTX is supported, Binance and OKX coming in the near future\n",
    "#rewrite notebook to .py script"
   ]
  },
  {
   "cell_type": "markdown",
   "id": "91115be9-31ed-4ac8-b88e-643c3ab298d4",
   "metadata": {},
   "source": [
    "# Global Crypto Data"
   ]
  },
  {
   "cell_type": "code",
   "execution_count": 5,
   "id": "836959b5-429e-4202-8845-057e2f954526",
   "metadata": {},
   "outputs": [],
   "source": [
    "gcd_url = 'https://api.coingecko.com/api/v3/global'\n",
    "gcd = requests.get(gcd_url).json()['data']"
   ]
  },
  {
   "cell_type": "code",
   "execution_count": 6,
   "id": "b7f69d89-2cb7-4897-93b7-f66da39ee9bc",
   "metadata": {},
   "outputs": [],
   "source": [
    "#updated_at -> send cryptocurrency data to db with the timestamp\n",
    "#updates every 0.25hr"
   ]
  },
  {
   "cell_type": "code",
   "execution_count": 7,
   "id": "a7f83da3-41a0-4880-a58c-76f8d7e95203",
   "metadata": {},
   "outputs": [
    {
     "data": {
      "text/html": [
       "<div>\n",
       "<style scoped>\n",
       "    .dataframe tbody tr th:only-of-type {\n",
       "        vertical-align: middle;\n",
       "    }\n",
       "\n",
       "    .dataframe tbody tr th {\n",
       "        vertical-align: top;\n",
       "    }\n",
       "\n",
       "    .dataframe thead th {\n",
       "        text-align: right;\n",
       "    }\n",
       "</style>\n",
       "<table border=\"1\" class=\"dataframe\">\n",
       "  <thead>\n",
       "    <tr style=\"text-align: right;\">\n",
       "      <th></th>\n",
       "      <th>timestamp</th>\n",
       "      <th>total_volume_usd</th>\n",
       "      <th>active_cryptocurrencies</th>\n",
       "      <th>market_cap_usd</th>\n",
       "      <th>btc_market_cap_perc</th>\n",
       "      <th>eth_market_cap_perc</th>\n",
       "      <th>alts_market_cap_perc</th>\n",
       "    </tr>\n",
       "  </thead>\n",
       "  <tbody>\n",
       "    <tr>\n",
       "      <th>0</th>\n",
       "      <td>2022-05-18 19:54:38</td>\n",
       "      <td>8.716275e+10</td>\n",
       "      <td>13422</td>\n",
       "      <td>1.314276e+12</td>\n",
       "      <td>42.453488</td>\n",
       "      <td>18.219156</td>\n",
       "      <td>39.327356</td>\n",
       "    </tr>\n",
       "  </tbody>\n",
       "</table>\n",
       "</div>"
      ],
      "text/plain": [
       "            timestamp  total_volume_usd  active_cryptocurrencies  \\\n",
       "0 2022-05-18 19:54:38      8.716275e+10                    13422   \n",
       "\n",
       "   market_cap_usd  btc_market_cap_perc  eth_market_cap_perc  \\\n",
       "0    1.314276e+12            42.453488            18.219156   \n",
       "\n",
       "   alts_market_cap_perc  \n",
       "0             39.327356  "
      ]
     },
     "execution_count": 7,
     "metadata": {},
     "output_type": "execute_result"
    }
   ],
   "source": [
    "pd.DataFrame({'timestamp': [pd.to_datetime(gcd['updated_at'], unit='s')], 'total_volume_usd': [gcd['total_volume']['usd']], 'active_cryptocurrencies': [gcd['active_cryptocurrencies']], 'market_cap_usd': [gcd['total_market_cap']['usd']],\n",
    "             'btc_market_cap_perc': [gcd['market_cap_percentage']['btc']], 'eth_market_cap_perc': [gcd['market_cap_percentage']['eth']],\n",
    "             'alts_market_cap_perc': [100-gcd['market_cap_percentage']['btc']-gcd['market_cap_percentage']['eth']]})"
   ]
  },
  {
   "cell_type": "code",
   "execution_count": 8,
   "id": "5ff524c3-61ce-4981-8d10-8dd3e6327f61",
   "metadata": {},
   "outputs": [],
   "source": [
    "#add total_volume_usd, market_cap_usd mini plots + short term predictions"
   ]
  },
  {
   "cell_type": "markdown",
   "id": "opening-discretion",
   "metadata": {},
   "source": [
    "# Retrieving crypto market data for trending coins "
   ]
  },
  {
   "cell_type": "code",
   "execution_count": 9,
   "id": "thorough-floor",
   "metadata": {},
   "outputs": [],
   "source": [
    "supported_exchanges = ['FTX', 'Binance', 'OKX']"
   ]
  },
  {
   "cell_type": "code",
   "execution_count": 10,
   "id": "theoretical-duplicate",
   "metadata": {},
   "outputs": [],
   "source": [
    "temp_for_df = []\n",
    "for coin in trending_coins_info['coins']:\n",
    "    url = f'''https://api.coingecko.com/api/v3/coins/{coin['item']['id']}/tickers'''\n",
    "    r = requests.get(url).json()\n",
    "    tmp = []\n",
    "    for ticker in r['tickers']:\n",
    "        if (ticker['market']['name'] in supported_exchanges) and (ticker['is_stale'] == False):\n",
    "            tmp.append([ticker['market']['name'], ticker['base'], ticker['target'], ticker['volume']])\n",
    "    try:\n",
    "        temp_for_df.append(pd.DataFrame(tmp, columns=['exchange', 'base', 'quote', 'volume']).sort_values(by='volume', ascending=False).head(1).values[0])\n",
    "    except IndexError:\n",
    "        continue"
   ]
  },
  {
   "cell_type": "code",
   "execution_count": 11,
   "id": "amino-lover",
   "metadata": {},
   "outputs": [],
   "source": [
    "where_to_look_for_interesting_coins = pd.DataFrame(temp_for_df, columns=['exchange', 'base', 'quote', 'volume'])"
   ]
  },
  {
   "cell_type": "code",
   "execution_count": 12,
   "id": "technological-sympathy",
   "metadata": {},
   "outputs": [
    {
     "data": {
      "text/html": [
       "<div>\n",
       "<style scoped>\n",
       "    .dataframe tbody tr th:only-of-type {\n",
       "        vertical-align: middle;\n",
       "    }\n",
       "\n",
       "    .dataframe tbody tr th {\n",
       "        vertical-align: top;\n",
       "    }\n",
       "\n",
       "    .dataframe thead th {\n",
       "        text-align: right;\n",
       "    }\n",
       "</style>\n",
       "<table border=\"1\" class=\"dataframe\">\n",
       "  <thead>\n",
       "    <tr style=\"text-align: right;\">\n",
       "      <th></th>\n",
       "      <th>exchange</th>\n",
       "      <th>base</th>\n",
       "      <th>quote</th>\n",
       "      <th>volume</th>\n",
       "    </tr>\n",
       "  </thead>\n",
       "  <tbody>\n",
       "    <tr>\n",
       "      <th>0</th>\n",
       "      <td>Binance</td>\n",
       "      <td>LUNA</td>\n",
       "      <td>BUSD</td>\n",
       "      <td>3.000977e+12</td>\n",
       "    </tr>\n",
       "    <tr>\n",
       "      <th>1</th>\n",
       "      <td>Binance</td>\n",
       "      <td>UST</td>\n",
       "      <td>BUSD</td>\n",
       "      <td>1.946800e+09</td>\n",
       "    </tr>\n",
       "    <tr>\n",
       "      <th>2</th>\n",
       "      <td>Binance</td>\n",
       "      <td>FLOW</td>\n",
       "      <td>USDT</td>\n",
       "      <td>7.243766e+06</td>\n",
       "    </tr>\n",
       "    <tr>\n",
       "      <th>3</th>\n",
       "      <td>Binance</td>\n",
       "      <td>GMT</td>\n",
       "      <td>USDT</td>\n",
       "      <td>3.343054e+08</td>\n",
       "    </tr>\n",
       "  </tbody>\n",
       "</table>\n",
       "</div>"
      ],
      "text/plain": [
       "  exchange  base quote        volume\n",
       "0  Binance  LUNA  BUSD  3.000977e+12\n",
       "1  Binance   UST  BUSD  1.946800e+09\n",
       "2  Binance  FLOW  USDT  7.243766e+06\n",
       "3  Binance   GMT  USDT  3.343054e+08"
      ]
     },
     "execution_count": 12,
     "metadata": {},
     "output_type": "execute_result"
    }
   ],
   "source": [
    "where_to_look_for_interesting_coins"
   ]
  },
  {
   "cell_type": "code",
   "execution_count": 13,
   "id": "smaller-ticket",
   "metadata": {},
   "outputs": [],
   "source": [
    "class getExchangeData(ABC):\n",
    "    \n",
    "    @abstractmethod\n",
    "    def get_ticker_info(self):\n",
    "        pass\n",
    "    \n",
    "    @abstractmethod\n",
    "    def get_ticker_info_url(self):\n",
    "        pass\n",
    "\n",
    "    @abstractmethod\n",
    "    def get_start_time(self):\n",
    "        pass\n",
    "    \n",
    "    @abstractmethod\n",
    "    def get_interval(self):\n",
    "        pass\n",
    "    \n",
    "    @abstractmethod\n",
    "    def get_column_mapping(self):\n",
    "        pass"
   ]
  },
  {
   "cell_type": "code",
   "execution_count": 14,
   "id": "protected-spencer",
   "metadata": {},
   "outputs": [],
   "source": [
    "class getFTXData(getExchangeData):\n",
    "    \n",
    "    def get_ticker_info(self, base, quote, interval, days_back):\n",
    "        df = pd.DataFrame(requests.get(self.get_ticker_info_url(base, quote, interval, days_back)).json()['result'])\n",
    "        df['startTime'] = pd.to_datetime(df.startTime)\n",
    "        return df.rename(columns=self.get_column_mapping())\n",
    "    \n",
    "    def get_ticker_info_url(self, base, quote, interval, days_back):\n",
    "        return f'https://ftx.com/api/markets/{base}/{quote}/candles?resolution={self.get_interval(interval)}&start_time={self.get_start_time(days_back)}'\n",
    "    \n",
    "    def get_start_time(self, days_back=0, minutes_back=0):\n",
    "        return str((datetime.now()-timedelta(days=days_back, minutes=minutes_back)).timestamp()).split('.')[0]    \n",
    "    \n",
    "    def get_interval(self, interval):\n",
    "        if interval[-1:] == 's':\n",
    "            return int(interval[:-1])\n",
    "        elif interval[-1:] == 'm':\n",
    "            return int(interval[:-1])*60\n",
    "        elif interval[-1:] == 'h':\n",
    "            return int(interval[:-1])*3600\n",
    "    \n",
    "    def get_column_mapping(self):\n",
    "        return {\"startTime\": \"date_time\", \"time\": \"timestamp\"}"
   ]
  },
  {
   "cell_type": "code",
   "execution_count": 15,
   "id": "indian-device",
   "metadata": {},
   "outputs": [],
   "source": [
    "def get_price_data_for_ticker(exch, base, quote):\n",
    "        if exch == 'FTX':\n",
    "            return getFTXData().get_ticker_info(base, quote, '1h', 7)\n",
    "        elif exch == 'Binance':\n",
    "            #getBinanceData().get_ticker_info(base, quote, '1h', 7)\n",
    "            print(f'getting ticker data for {exch} {base}{quote}')\n",
    "        elif exch == 'OKX':        \n",
    "            #getOKXData().get_ticker_info(base, quote, '1h', 7)\n",
    "            print(f'getting ticker data for {exch} {base}{quote}')"
   ]
  },
  {
   "cell_type": "code",
   "execution_count": 16,
   "id": "adopted-overview",
   "metadata": {},
   "outputs": [
    {
     "name": "stdout",
     "output_type": "stream",
     "text": [
      "getting ticker data for Binance LUNABUSD\n",
      "getting ticker data for Binance USTBUSD\n",
      "getting ticker data for Binance FLOWUSDT\n",
      "getting ticker data for Binance GMTUSDT\n"
     ]
    }
   ],
   "source": [
    "for row in where_to_look_for_interesting_coins.itertuples():\n",
    "    df = get_price_data_for_ticker(row.exchange, row.base, row.quote)\n",
    "    try:\n",
    "        plt.plot(df.date_time, df.open, color=('green' if df.iloc[-1, 2] > df.iloc[0, 2] else 'red'), alpha=0.5)\n",
    "        plt.xticks(rotation=45)\n",
    "        plt.title(f'{row.exchange} {row.base}{row.quote}')\n",
    "    except AttributeError:\n",
    "        #skips if no data is available\n",
    "        continue"
   ]
  }
 ],
 "metadata": {
  "kernelspec": {
   "display_name": "Python 3",
   "language": "python",
   "name": "python3"
  },
  "language_info": {
   "codemirror_mode": {
    "name": "ipython",
    "version": 3
   },
   "file_extension": ".py",
   "mimetype": "text/x-python",
   "name": "python",
   "nbconvert_exporter": "python",
   "pygments_lexer": "ipython3",
   "version": "3.8.5"
  }
 },
 "nbformat": 4,
 "nbformat_minor": 5
}
