{
 "cells": [
  {
   "cell_type": "code",
   "execution_count": 1,
   "id": "05fb84f4-7984-48ac-a4a8-067dd359fb12",
   "metadata": {},
   "outputs": [],
   "source": [
    "import dash\n",
    "from dash import dcc\n",
    "from dash import html\n",
    "import plotly.express as px\n",
    "import pandas as pd\n",
    "import requests\n",
    "import plotly.graph_objects as go\n",
    "import matplotlib.pyplot as plt\n",
    "from imageio import imread"
   ]
  },
  {
   "cell_type": "markdown",
   "id": "61928eb9-53dd-4dda-9b8c-f6ce2f31b681",
   "metadata": {},
   "source": [
    "# Trending coins"
   ]
  },
  {
   "cell_type": "code",
   "execution_count": 2,
   "id": "8bd0bc15-e6f1-4722-a101-f98f42711c3c",
   "metadata": {},
   "outputs": [],
   "source": [
    "trending_coins_url = 'https://api.coingecko.com/api/v3/search/trending'\n",
    "trending_coins_info = requests.get(trending_coins_url).json()"
   ]
  },
  {
   "cell_type": "code",
   "execution_count": 3,
   "id": "cb079035-171c-43d2-904e-30c9468d712d",
   "metadata": {},
   "outputs": [
    {
     "name": "stdout",
     "output_type": "stream",
     "text": [
      "Trending coins:\n",
      "coin: Terra, ticker: LUNA, market cap rank: 48, current price: 0.00026184, perc price change in 24h: -30.74, perc market cap change in 24h: -37.11\n",
      "coin: TerraUSD, ticker: UST, market cap rank: 42, current price: 0.160119, perc price change in 24h: -5.39, perc market cap change in 24h: -6.42\n",
      "coin: inSure DeFi, ticker: SURE, market cap rank: 257, current price: 0.0045562, perc price change in 24h: 0.58, perc market cap change in 24h: 0.58\n",
      "coin: Enzyme, ticker: MLN, market cap rank: 361, current price: 47.82, perc price change in 24h: 78.42, perc market cap change in 24h: 84.99\n",
      "coin: STEPN, ticker: GMT, market cap rank: 75, current price: 1.46, perc price change in 24h: 9.23, perc market cap change in 24h: 11.37\n",
      "coin: Kadena, ticker: KDA, market cap rank: 105, current price: 3.06, perc price change in 24h: 35.98, perc market cap change in 24h: 37.42\n",
      "coin: Solana, ticker: SOL, market cap rank: 8, current price: 53.56, perc price change in 24h: 11.3, perc market cap change in 24h: 11.97\n"
     ]
    }
   ],
   "source": [
    "print('Trending coins:')\n",
    "for coin in trending_coins_info['coins']:\n",
    "    try:\n",
    "        url = f'''https://api.coingecko.com/api/v3/coins/{coin['item']['id']}?localization=en&tickers=false&market_data=true&community_data=false&developer_data=false&sparkline=false'''\n",
    "        data = requests.get(url).json()\n",
    "        print(f'''coin: {coin['item']['name']}, ticker: {coin['item']['symbol']}, market cap rank: {data['market_cap_rank']}, current price: {data['market_data']['current_price']['usd']}, perc price change in 24h: {round(data['market_data']['price_change_percentage_24h'], 2)}, perc market cap change in 24h: {round(data['market_data']['market_cap_change_percentage_24h_in_currency']['usd'], 2)}''')\n",
    "        \n",
    "    except KeyError:\n",
    "        continue"
   ]
  },
  {
   "cell_type": "code",
   "execution_count": 4,
   "id": "c74b14b0-796b-44f2-8ae0-89fce2af558d",
   "metadata": {},
   "outputs": [],
   "source": [
    "#add mini plots for each trending coin with previous price (green or red, depending whether the price has risen in the last 7 days)\n",
    "#with 2-day prediction, printed in gray color\n",
    "#add 'look up your coin' function, where it would return data on the coin similiar to the one presented in trending coins section\n",
    "#with price data, market cap data, previous price and predictions\n",
    "#maybe add crypto thumbnails for each trending cc?\n",
    "#possibly: integration with Binance or other cc market for historical price data"
   ]
  },
  {
   "cell_type": "markdown",
   "id": "91115be9-31ed-4ac8-b88e-643c3ab298d4",
   "metadata": {},
   "source": [
    "# Global Crypto Data"
   ]
  },
  {
   "cell_type": "code",
   "execution_count": 5,
   "id": "836959b5-429e-4202-8845-057e2f954526",
   "metadata": {},
   "outputs": [],
   "source": [
    "gcd_url = 'https://api.coingecko.com/api/v3/global'\n",
    "gcd = requests.get(gcd_url).json()['data']"
   ]
  },
  {
   "cell_type": "code",
   "execution_count": 6,
   "id": "b7f69d89-2cb7-4897-93b7-f66da39ee9bc",
   "metadata": {},
   "outputs": [],
   "source": [
    "#updated_at -> send cryptocurrency data to db with the timestamp\n",
    "#updates every 0.25hr"
   ]
  },
  {
   "cell_type": "code",
   "execution_count": 7,
   "id": "a7f83da3-41a0-4880-a58c-76f8d7e95203",
   "metadata": {},
   "outputs": [
    {
     "data": {
      "text/html": [
       "<div>\n",
       "<style scoped>\n",
       "    .dataframe tbody tr th:only-of-type {\n",
       "        vertical-align: middle;\n",
       "    }\n",
       "\n",
       "    .dataframe tbody tr th {\n",
       "        vertical-align: top;\n",
       "    }\n",
       "\n",
       "    .dataframe thead th {\n",
       "        text-align: right;\n",
       "    }\n",
       "</style>\n",
       "<table border=\"1\" class=\"dataframe\">\n",
       "  <thead>\n",
       "    <tr style=\"text-align: right;\">\n",
       "      <th></th>\n",
       "      <th>timestamp</th>\n",
       "      <th>total_volume_usd</th>\n",
       "      <th>active_cryptocurrencies</th>\n",
       "      <th>market_cap_usd</th>\n",
       "      <th>btc_market_cap_perc</th>\n",
       "      <th>eth_market_cap_perc</th>\n",
       "      <th>alts_market_cap_perc</th>\n",
       "    </tr>\n",
       "  </thead>\n",
       "  <tbody>\n",
       "    <tr>\n",
       "      <th>0</th>\n",
       "      <td>2022-05-15 16:32:15</td>\n",
       "      <td>8.942614e+10</td>\n",
       "      <td>13402</td>\n",
       "      <td>1.351286e+12</td>\n",
       "      <td>42.426531</td>\n",
       "      <td>18.513973</td>\n",
       "      <td>39.059496</td>\n",
       "    </tr>\n",
       "  </tbody>\n",
       "</table>\n",
       "</div>"
      ],
      "text/plain": [
       "            timestamp  total_volume_usd  active_cryptocurrencies  \\\n",
       "0 2022-05-15 16:32:15      8.942614e+10                    13402   \n",
       "\n",
       "   market_cap_usd  btc_market_cap_perc  eth_market_cap_perc  \\\n",
       "0    1.351286e+12            42.426531            18.513973   \n",
       "\n",
       "   alts_market_cap_perc  \n",
       "0             39.059496  "
      ]
     },
     "execution_count": 7,
     "metadata": {},
     "output_type": "execute_result"
    }
   ],
   "source": [
    "pd.DataFrame({'timestamp': [pd.to_datetime(gcd['updated_at'], unit='s')], 'total_volume_usd': [gcd['total_volume']['usd']], 'active_cryptocurrencies': [gcd['active_cryptocurrencies']], 'market_cap_usd': [gcd['total_market_cap']['usd']],\n",
    "             'btc_market_cap_perc': [gcd['market_cap_percentage']['btc']], 'eth_market_cap_perc': [gcd['market_cap_percentage']['eth']],\n",
    "             'alts_market_cap_perc': [100-gcd['market_cap_percentage']['btc']-gcd['market_cap_percentage']['eth']]})"
   ]
  },
  {
   "cell_type": "code",
   "execution_count": 8,
   "id": "5ff524c3-61ce-4981-8d10-8dd3e6327f61",
   "metadata": {},
   "outputs": [],
   "source": [
    "#add total_volume_usd, market_cap_usd mini plots + short term predictions"
   ]
  }
 ],
 "metadata": {
  "kernelspec": {
   "display_name": "Python 3 (ipykernel)",
   "language": "python",
   "name": "python3"
  },
  "language_info": {
   "codemirror_mode": {
    "name": "ipython",
    "version": 3
   },
   "file_extension": ".py",
   "mimetype": "text/x-python",
   "name": "python",
   "nbconvert_exporter": "python",
   "pygments_lexer": "ipython3",
   "version": "3.9.12"
  }
 },
 "nbformat": 4,
 "nbformat_minor": 5
}
